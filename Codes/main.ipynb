{
 "cells": [
  {
   "cell_type": "markdown",
   "metadata": {},
   "source": [
    "# Importing Packages"
   ]
  },
  {
   "cell_type": "code",
   "execution_count": 11,
   "metadata": {},
   "outputs": [],
   "source": [
    "import warnings\n",
    "warnings.simplefilter(action='ignore', category=FutureWarning)\n",
    "\n",
    "import numpy as np\n",
    "import pandas as pd\n",
    "\n",
    "import matplotlib.pyplot as plt\n",
    "import sys, os, logging, timeit\n",
    "from pathlib import Path as Pathlb\n",
    "\n",
    "\n",
    "from sklearn import preprocessing\n",
    "from sklearn.metrics import accuracy_score\n",
    "import itertools\n",
    "\n",
    "\n",
    "sys.path.insert(0, os.path.abspath(os.path.join('..')))\n",
    "from MLPackage import Features as feat\n",
    "from MLPackage.FS import hho\n",
    "from MLPackage import config as cfg"
   ]
  },
  {
   "cell_type": "markdown",
   "metadata": {},
   "source": [
    "# Making Folders and Logger"
   ]
  },
  {
   "cell_type": "code",
   "execution_count": 2,
   "metadata": {},
   "outputs": [],
   "source": [
    "project_dir = os.getcwd()[:-5]\n",
    "fig_dir = os.path.join(project_dir, \"Manuscripts\", \"src\", \"figures\")\n",
    "tbl_dir = os.path.join(project_dir, \"Manuscripts\", \"src\", \"tables\")\n",
    "results_dir = os.path.join(project_dir, \"results\")\n",
    "dataset_dir = os.path.join(project_dir, \"Datasets\")\n",
    "temp_dir = os.path.join(project_dir, \"temp\")\n",
    "log_path = os.path.join(project_dir, 'logs')\n",
    "\n",
    "Pathlb(log_path).mkdir(parents=True, exist_ok=True)\n",
    "Pathlb(dataset_dir).mkdir(parents=True, exist_ok=True)\n",
    "Pathlb(temp_dir).mkdir(parents=True, exist_ok=True)\n",
    "Pathlb(results_dir ).mkdir(parents=True, exist_ok=True)\n",
    "Pathlb(fig_dir).mkdir(parents=True, exist_ok=True)\n",
    "Pathlb(tbl_dir).mkdir(parents=True, exist_ok=True)\n",
    "\n",
    "\n",
    "def create_logger(level):\n",
    "    loggerName = \"main pynb\"\n",
    "    Pathlb(log_path).mkdir(parents=True, exist_ok=True)\n",
    "    grey = '\\x1b[38;21m'\n",
    "    blue = '\\x1b[38;5;39m'\n",
    "    yellow = '\\x1b[38;5;226m'\n",
    "    red = '\\x1b[38;5;196m'\n",
    "    bold_red = '\\x1b[31;1m'\n",
    "    reset = '\\x1b[0m'\n",
    "\n",
    "    logger = logging.getLogger(loggerName)\n",
    "    logger.setLevel(level)\n",
    "    formatter_colored = logging.Formatter(blue + '[%(asctime)s]-' + yellow + '[%(name)s @%(lineno)d]' + reset + blue + '-[%(levelname)s]' + reset + bold_red + '\\t\\t%(message)s' + reset, datefmt='%m/%d/%Y %I:%M:%S %p ')\n",
    "    formatter = logging.Formatter('[%(asctime)s]-[%(name)s @%(lineno)d]-[%(levelname)s]\\t\\t%(message)s', datefmt='%m/%d/%Y %I:%M:%S %p ')\n",
    "    file_handler = logging.FileHandler( os.path.join(log_path, loggerName + '_loger.log'), mode = 'w')\n",
    "    file_handler.setLevel(level)\n",
    "    file_handler.setFormatter(formatter)\n",
    "    stream_handler = logging.StreamHandler()\n",
    "    stream_handler.setLevel(logging.INFO)\n",
    "\n",
    "    stream_handler.setFormatter(formatter_colored)\n",
    "\n",
    "\n",
    "    logger.addHandler(file_handler)\n",
    "    logger.addHandler(stream_handler)\n",
    "    return logger\n",
    "logger = create_logger(logging.DEBUG)\n",
    "\n",
    "\n",
    "\n"
   ]
  },
  {
   "cell_type": "markdown",
   "metadata": {},
   "source": [
    "# Reading CASIA-D Dateset"
   ]
  },
  {
   "cell_type": "code",
   "execution_count": 3,
   "metadata": {},
   "outputs": [
    {
     "name": "stderr",
     "output_type": "stream",
     "text": [
      "\u001b[38;5;39m[11/24/2021 03:32:59 PM ]-\u001b[38;5;226m[main pynb @8]\u001b[0m\u001b[38;5;39m-[INFO]\u001b[0m\u001b[31;1m\t\tData shape: (2851, 60, 40, 100)\u001b[0m\n",
      "\u001b[38;5;39m[11/24/2021 03:32:59 PM ]-\u001b[38;5;226m[main pynb @9]\u001b[0m\u001b[38;5;39m-[INFO]\u001b[0m\u001b[31;1m\t\tMetadata shape: (2851, 7)\u001b[0m\n"
     ]
    }
   ],
   "source": [
    "data_path = os.path.join(project_dir, 'Datasets', 'datalist.npy')\n",
    "meta_path = os.path.join(project_dir, 'Datasets', 'metadatalist.npy')\n",
    "eps = 5\n",
    "\n",
    "\n",
    "data = np.load(data_path)\n",
    "metadata = np.load(meta_path)\n",
    "logger.info(\"Data shape: {}\".format(data.shape))\n",
    "logger.info(\"Metadata shape: {}\".format(metadata.shape))"
   ]
  },
  {
   "cell_type": "markdown",
   "metadata": {},
   "source": [
    "# Extracting Features"
   ]
  },
  {
   "cell_type": "code",
   "execution_count": 4,
   "metadata": {},
   "outputs": [],
   "source": [
    "\n",
    "\n",
    "features = list()\n",
    "prefeatures = list()\n",
    "\n",
    "\n",
    "for sample, label in zip(data, metadata):\n",
    "    \n",
    "    COA = feat.computeCOATimeSeries(sample, Binarize = \"simple\", Threshold = 0)\n",
    "\n",
    "    aMDIST = feat.computeMDIST(COA)    \n",
    "    aRDIST = feat.computeRDIST(COA)\n",
    "    aTOTEX = feat.computeTOTEX(COA)\n",
    "    aMVELO = feat.computeMVELO(COA)\n",
    "    aRANGE = feat.computeRANGE(COA)\n",
    "    aAREACC = feat.computeAREACC(COA)\n",
    "    aAREACE = feat.computeAREACE(COA)\n",
    "    aAREASW = feat.computeAREASW(COA)\n",
    "    aMFREQ = feat.computeMFREQ(COA)\n",
    "    aFDPD = feat.computeFDPD(COA)\n",
    "    aFDCC = feat.computeFDCC(COA)\n",
    "    aFDCE = feat.computeFDCE(COA)\n",
    "\n",
    "    handcraft_COAfeatures = np.concatenate((aMDIST, aRDIST, aTOTEX, aMVELO, aRANGE, [aAREACC], [aAREACE], [aAREASW], aMFREQ, aFDPD, [aFDCC], [aFDCE]), axis = 0)\n",
    "    COAs = COA.flatten()\n",
    "\n",
    "    GRF = feat.computeGRF(sample)\n",
    "    handcraft_GRFfeatures = feat.computeGRFfeatures(GRF)\n",
    "\n",
    "    wt_GRF = feat.wt_feature(GRF, waveletname=\"coif1\", pywt_mode=\"constant\", wavelet_level=4)\n",
    "\n",
    "    wt_COA_RD = feat.wt_feature(COA[0,:], waveletname=\"coif1\", pywt_mode=\"constant\", wavelet_level=4)\n",
    "    wt_COA_AP = feat.wt_feature(COA[1,:], waveletname=\"coif1\", pywt_mode=\"constant\", wavelet_level=4)\n",
    "    wt_COA_ML = feat.wt_feature(COA[2,:], waveletname=\"coif1\", pywt_mode=\"constant\", wavelet_level=4)\n",
    "\n",
    "\n",
    "    \n",
    "\n",
    "\n",
    " \n",
    "\n",
    "    features.append( np.concatenate((COAs, handcraft_COAfeatures, GRF, handcraft_GRFfeatures, wt_COA_RD, wt_COA_AP, wt_COA_ML, wt_GRF, label[0:2]), axis=0)  )\n",
    "\n",
    "    prefeatures.append(feat.prefeatures(sample))\n",
    "    # break\n",
    "    \n",
    "\n",
    "\n",
    "\n",
    "\n",
    "saving_path = os.path.join(temp_dir, 'features_all.xlsx')\n",
    "columnsName = cfg.COA_RD + cfg.COA_AP + cfg.COA_ML + cfg.COA_HC + cfg.GRF + cfg.GRF_HC + cfg.wt_COA_RD + cfg.wt_COA_AP + cfg.wt_COA_ML + cfg.wt_GRF + cfg.label\n",
    "pd.DataFrame(features, columns=columnsName).to_excel(saving_path)\n",
    "np.save(os.path.join(temp_dir, 'prefeatures.npy'), prefeatures)"
   ]
  },
  {
   "cell_type": "markdown",
   "metadata": {},
   "source": [
    "# Feature Selection\n"
   ]
  },
  {
   "cell_type": "code",
   "execution_count": 13,
   "metadata": {},
   "outputs": [],
   "source": [
    "feature_path = os.path.join(project_dir, \"temp\", \"features_all.xlsx\")\n",
    "DF_features_all = pd.read_excel(feature_path, index_col = 0)\n",
    "\n",
    "\n",
    "data  = DF_features_all.values\n",
    "features  = np.asarray(data[:, 0:-2])\n",
    "label = np.asarray(data[:, -2])\n"
   ]
  },
  {
   "cell_type": "code",
   "execution_count": 14,
   "metadata": {},
   "outputs": [
    {
     "ename": "KeyError",
     "evalue": "'k'",
     "output_type": "error",
     "traceback": [
      "\u001b[1;31m---------------------------------------------------------------------------\u001b[0m",
      "\u001b[1;31mKeyError\u001b[0m                                  Traceback (most recent call last)",
      "\u001b[1;32m~\\AppData\\Local\\Temp/ipykernel_17468/806384284.py\u001b[0m in \u001b[0;36m<module>\u001b[1;34m\u001b[0m\n\u001b[0;32m      8\u001b[0m \u001b[1;33m\u001b[0m\u001b[0m\n\u001b[0;32m      9\u001b[0m \u001b[1;31m# perform feature selection\u001b[0m\u001b[1;33m\u001b[0m\u001b[1;33m\u001b[0m\u001b[0m\n\u001b[1;32m---> 10\u001b[1;33m \u001b[0mfmdl\u001b[0m \u001b[1;33m=\u001b[0m \u001b[0mhho\u001b[0m\u001b[1;33m.\u001b[0m\u001b[0mjfs\u001b[0m\u001b[1;33m(\u001b[0m\u001b[0mfeatures\u001b[0m\u001b[1;33m,\u001b[0m \u001b[0mlabel\u001b[0m\u001b[1;33m,\u001b[0m \u001b[0mopts\u001b[0m\u001b[1;33m)\u001b[0m\u001b[1;33m\u001b[0m\u001b[1;33m\u001b[0m\u001b[0m\n\u001b[0m",
      "\u001b[1;32mc:\\Project\\Worksheet\\Codes\\MLPackage\\FS\\hho.py\u001b[0m in \u001b[0;36mjfs\u001b[1;34m(xtrain, ytrain, opts)\u001b[0m\n\u001b[0;32m     87\u001b[0m         \u001b[1;31m# Fitness\u001b[0m\u001b[1;33m\u001b[0m\u001b[1;33m\u001b[0m\u001b[0m\n\u001b[0;32m     88\u001b[0m         \u001b[1;32mfor\u001b[0m \u001b[0mi\u001b[0m \u001b[1;32min\u001b[0m \u001b[0mrange\u001b[0m\u001b[1;33m(\u001b[0m\u001b[0mN\u001b[0m\u001b[1;33m)\u001b[0m\u001b[1;33m:\u001b[0m\u001b[1;33m\u001b[0m\u001b[1;33m\u001b[0m\u001b[0m\n\u001b[1;32m---> 89\u001b[1;33m             \u001b[0mfit\u001b[0m\u001b[1;33m[\u001b[0m\u001b[0mi\u001b[0m\u001b[1;33m,\u001b[0m\u001b[1;36m0\u001b[0m\u001b[1;33m]\u001b[0m \u001b[1;33m=\u001b[0m \u001b[0mFun\u001b[0m\u001b[1;33m(\u001b[0m\u001b[0mxtrain\u001b[0m\u001b[1;33m,\u001b[0m \u001b[0mytrain\u001b[0m\u001b[1;33m,\u001b[0m \u001b[0mXbin\u001b[0m\u001b[1;33m[\u001b[0m\u001b[0mi\u001b[0m\u001b[1;33m,\u001b[0m\u001b[1;33m:\u001b[0m\u001b[1;33m]\u001b[0m\u001b[1;33m,\u001b[0m \u001b[0mopts\u001b[0m\u001b[1;33m)\u001b[0m\u001b[1;33m\u001b[0m\u001b[1;33m\u001b[0m\u001b[0m\n\u001b[0m\u001b[0;32m     90\u001b[0m             \u001b[1;32mif\u001b[0m \u001b[0mfit\u001b[0m\u001b[1;33m[\u001b[0m\u001b[0mi\u001b[0m\u001b[1;33m,\u001b[0m\u001b[1;36m0\u001b[0m\u001b[1;33m]\u001b[0m \u001b[1;33m<\u001b[0m \u001b[0mfitR\u001b[0m\u001b[1;33m:\u001b[0m\u001b[1;33m\u001b[0m\u001b[1;33m\u001b[0m\u001b[0m\n\u001b[0;32m     91\u001b[0m                 \u001b[0mXrb\u001b[0m\u001b[1;33m[\u001b[0m\u001b[1;36m0\u001b[0m\u001b[1;33m,\u001b[0m\u001b[1;33m:\u001b[0m\u001b[1;33m]\u001b[0m \u001b[1;33m=\u001b[0m \u001b[0mX\u001b[0m\u001b[1;33m[\u001b[0m\u001b[0mi\u001b[0m\u001b[1;33m,\u001b[0m\u001b[1;33m:\u001b[0m\u001b[1;33m]\u001b[0m\u001b[1;33m\u001b[0m\u001b[1;33m\u001b[0m\u001b[0m\n",
      "\u001b[1;32mc:\\Project\\Worksheet\\Codes\\MLPackage\\FS\\functionHO.py\u001b[0m in \u001b[0;36mFun\u001b[1;34m(xtrain, ytrain, x, opts)\u001b[0m\n\u001b[0;32m     46\u001b[0m     \u001b[1;32melse\u001b[0m\u001b[1;33m:\u001b[0m\u001b[1;33m\u001b[0m\u001b[1;33m\u001b[0m\u001b[0m\n\u001b[0;32m     47\u001b[0m         \u001b[1;31m# Get error rate\u001b[0m\u001b[1;33m\u001b[0m\u001b[1;33m\u001b[0m\u001b[0m\n\u001b[1;32m---> 48\u001b[1;33m         \u001b[0merror\u001b[0m \u001b[1;33m=\u001b[0m \u001b[0merror_rate\u001b[0m\u001b[1;33m(\u001b[0m\u001b[0mxtrain\u001b[0m\u001b[1;33m,\u001b[0m \u001b[0mytrain\u001b[0m\u001b[1;33m,\u001b[0m \u001b[0mx\u001b[0m\u001b[1;33m,\u001b[0m \u001b[0mopts\u001b[0m\u001b[1;33m)\u001b[0m\u001b[1;33m\u001b[0m\u001b[1;33m\u001b[0m\u001b[0m\n\u001b[0m\u001b[0;32m     49\u001b[0m         \u001b[1;31m# Objective function\u001b[0m\u001b[1;33m\u001b[0m\u001b[1;33m\u001b[0m\u001b[0m\n\u001b[0;32m     50\u001b[0m         \u001b[0mcost\u001b[0m  \u001b[1;33m=\u001b[0m \u001b[0malpha\u001b[0m \u001b[1;33m*\u001b[0m \u001b[0merror\u001b[0m \u001b[1;33m+\u001b[0m \u001b[0mbeta\u001b[0m \u001b[1;33m*\u001b[0m \u001b[1;33m(\u001b[0m\u001b[0mnum_feat\u001b[0m \u001b[1;33m/\u001b[0m \u001b[0mmax_feat\u001b[0m\u001b[1;33m)\u001b[0m\u001b[1;33m\u001b[0m\u001b[1;33m\u001b[0m\u001b[0m\n",
      "\u001b[1;32mc:\\Project\\Worksheet\\Codes\\MLPackage\\FS\\functionHO.py\u001b[0m in \u001b[0;36merror_rate\u001b[1;34m(xtrain, ytrain, x, opts)\u001b[0m\n\u001b[0;32m      6\u001b[0m \u001b[1;32mdef\u001b[0m \u001b[0merror_rate\u001b[0m\u001b[1;33m(\u001b[0m\u001b[0mxtrain\u001b[0m\u001b[1;33m,\u001b[0m \u001b[0mytrain\u001b[0m\u001b[1;33m,\u001b[0m \u001b[0mx\u001b[0m\u001b[1;33m,\u001b[0m \u001b[0mopts\u001b[0m\u001b[1;33m)\u001b[0m\u001b[1;33m:\u001b[0m\u001b[1;33m\u001b[0m\u001b[1;33m\u001b[0m\u001b[0m\n\u001b[0;32m      7\u001b[0m     \u001b[1;31m# parameters\u001b[0m\u001b[1;33m\u001b[0m\u001b[1;33m\u001b[0m\u001b[0m\n\u001b[1;32m----> 8\u001b[1;33m     \u001b[0mk\u001b[0m     \u001b[1;33m=\u001b[0m \u001b[0mopts\u001b[0m\u001b[1;33m[\u001b[0m\u001b[1;34m'k'\u001b[0m\u001b[1;33m]\u001b[0m\u001b[1;33m\u001b[0m\u001b[1;33m\u001b[0m\u001b[0m\n\u001b[0m\u001b[0;32m      9\u001b[0m     \u001b[0mfold\u001b[0m  \u001b[1;33m=\u001b[0m \u001b[0mopts\u001b[0m\u001b[1;33m[\u001b[0m\u001b[1;34m'fold'\u001b[0m\u001b[1;33m]\u001b[0m\u001b[1;33m\u001b[0m\u001b[1;33m\u001b[0m\u001b[0m\n\u001b[0;32m     10\u001b[0m     \u001b[0mxt\u001b[0m    \u001b[1;33m=\u001b[0m \u001b[0mfold\u001b[0m\u001b[1;33m[\u001b[0m\u001b[1;34m'xt'\u001b[0m\u001b[1;33m]\u001b[0m\u001b[1;33m\u001b[0m\u001b[1;33m\u001b[0m\u001b[0m\n",
      "\u001b[1;31mKeyError\u001b[0m: 'k'"
     ]
    }
   ],
   "source": [
    "\n",
    "\n",
    "\n",
    "# parameter\n",
    "k    = 5     # k-value in KNN\n",
    "N    = 10    # number of chromosomes\n",
    "T    = 100   # maximum number of generations\n",
    "CR   = 0.8\n",
    "MR   = 0.01\n",
    "opts = {'N':N, 'T':T, 'CR':CR, 'MR':MR}\n",
    "\n",
    "# perform feature selection\n",
    "fmdl = hho.jfs(features, label, opts)"
   ]
  },
  {
   "cell_type": "code",
   "execution_count": null,
   "metadata": {},
   "outputs": [],
   "source": []
  }
 ],
 "metadata": {
  "interpreter": {
   "hash": "d420073edfc19a3b1ff3b429a894eba8b52a8b645a9b23b28e961e231b9db723"
  },
  "kernelspec": {
   "display_name": "Python 3.9.7 64-bit",
   "name": "python3"
  },
  "language_info": {
   "codemirror_mode": {
    "name": "ipython",
    "version": 3
   },
   "file_extension": ".py",
   "mimetype": "text/x-python",
   "name": "python",
   "nbconvert_exporter": "python",
   "pygments_lexer": "ipython3",
   "version": "3.9.7"
  },
  "orig_nbformat": 4
 },
 "nbformat": 4,
 "nbformat_minor": 2
}
